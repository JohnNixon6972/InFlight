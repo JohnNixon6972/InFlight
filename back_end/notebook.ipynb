{
 "cells": [
  {
   "cell_type": "code",
   "execution_count": 1,
   "metadata": {},
   "outputs": [
    {
     "name": "stderr",
     "output_type": "stream",
     "text": [
      "Setting default log level to \"WARN\".\n",
      "To adjust logging level use sc.setLogLevel(newLevel). For SparkR, use setLogLevel(newLevel).\n",
      "24/03/21 16:48:27 WARN NativeCodeLoader: Unable to load native-hadoop library for your platform... using builtin-java classes where applicable\n",
      "24/03/21 16:48:27 WARN Utils: Service 'SparkUI' could not bind on port 4040. Attempting port 4041.\n"
     ]
    }
   ],
   "source": [
    "from pyspark.sql import SparkSession\n",
    "spark = SparkSession.builder.config(\"spark.driver.memory\", \"10g\").appName(\"Parquet Reader\").getOrCreate()"
   ]
  },
  {
   "cell_type": "code",
   "execution_count": 2,
   "metadata": {},
   "outputs": [],
   "source": [
    "# Initialize the airline variable globally\n",
    "airline = None\n",
    "\n",
    "def read_parquet_and_print_top(parquet_path):\n",
    "    global airline\n",
    "    # Read Parquet files into a DataFrame\n",
    "    airline = spark.read.parquet(parquet_path)\n",
    "\n",
    "# Initialize Spark session and read Parquet file\n",
    "parquet_path = \"./airline.parquet\"\n",
    "read_parquet_and_print_top(parquet_path)"
   ]
  },
  {
   "cell_type": "code",
   "execution_count": null,
   "metadata": {},
   "outputs": [],
   "source": [
    "# get cols \n",
    "airline.printSchema()"
   ]
  },
  {
   "cell_type": "code",
   "execution_count": null,
   "metadata": {},
   "outputs": [],
   "source": [
    "flights_month = {}\n",
    "\n",
    "months = airline.select('Month').distinct().collect()\n",
    "months = [row.Month for row in months]\n",
    "# assign total and delayed for each month\n",
    "for month in months:\n",
    "    total = airline.filter(airline.Month == month).count()\n",
    "    delayed = airline.filter(airline.Month == month).filter(airline.ArrDelay > 0).count()\n",
    "    flights_month[month] = {'total': total, 'delayed': delayed}\n",
    "print(flights_month)"
   ]
  },
  {
   "cell_type": "code",
   "execution_count": null,
   "metadata": {},
   "outputs": [],
   "source": [
    "airline.columns"
   ]
  },
  {
   "cell_type": "code",
   "execution_count": null,
   "metadata": {},
   "outputs": [],
   "source": [
    "# records where delay is more than 15\n",
    "delayed_flights = airline.filter((airline.ArrDelay > 15) & (airline.Distance > 2000)).count()\n",
    "delayed_flights"
   ]
  },
  {
   "cell_type": "code",
   "execution_count": 5,
   "metadata": {},
   "outputs": [
    {
     "name": "stderr",
     "output_type": "stream",
     "text": [
      "24/03/21 16:50:16 WARN SparkStringUtils: Truncated the string representation of a plan since it was too large. This behavior can be adjusted by setting 'spark.sql.debug.maxToStringFields'.\n"
     ]
    },
    {
     "data": {
      "text/plain": [
       "[Row(Year=2019, Quarter=2, Month=4, DayofMonth=30, DayOfWeek=2, FlightDate=datetime.date(2019, 4, 30), Reporting_Airline='AA', DOT_ID_Reporting_Airline=19805, IATA_CODE_Reporting_Airline='AA', Tail_Number='N733UW', Flight_Number_Reporting_Airline=2119, OriginAirportID=10721, OriginAirportSeqID=1072102, OriginCityMarketID=30721, Origin='BOS', OriginCityName='Boston, MA', OriginState='MA', OriginStateFips=25, OriginStateName='Massachusetts', OriginWac=13, DestAirportID=11278, DestAirportSeqID=1127805, DestCityMarketID=30852, Dest='DCA', DestCityName='Washington, DC', DestState='VA', DestStateFips=51, DestStateName='Virginia', DestWac=38, CRSDepTime=1600, DepTime=1556, DepDelay=-4.0, DepDelayMinutes=0.0, DepDel15=0.0, DepartureDelayGroups=-1, DepTimeBlk='1600-1659', TaxiOut=15.0, WheelsOff='1611', WheelsOn='1723', TaxiIn=3.0, CRSArrTime=1745, ArrTime=1726, ArrDelay=-19.0, ArrDelayMinutes=0.0, ArrDel15=0.0, ArrivalDelayGroups=-2, ArrTimeBlk='1700-1759', Cancelled=0.0, CancellationCode=None, Diverted=0.0, CRSElapsedTime=105.0, ActualElapsedTime=90.0, AirTime=72.0, Flights=1.0, Distance=399.0, DistanceGroup=2, CarrierDelay=None, WeatherDelay=None, NASDelay=None, SecurityDelay=None, LateAircraftDelay=None, FirstDepTime=None, TotalAddGTime=None, LongestAddGTime=None, DivAirportLandings=0, DivReachedDest=None, DivActualElapsedTime=None, DivArrDelay=None, DivDistance=None, Div1Airport=None, Div1AirportID=None, Div1AirportSeqID=None, Div1WheelsOn=None, Div1TotalGTime=None, Div1LongestGTime=None, Div1WheelsOff=None, Div1TailNum=None, Div2Airport=None, Div2AirportID=None, Div2AirportSeqID=None, Div2WheelsOn=None, Div2TotalGTime=None, Div2LongestGTime=None, Div2WheelsOff=None, Div2TailNum=None, Div3Airport=None, Div3AirportID=None, Div3AirportSeqID=None, Div3WheelsOn=None, Div3TotalGTime=None, Div3LongestGTime=None, Div3WheelsOff=None, Div3TailNum=None, Div4Airport=None, Div4AirportID=None, Div4AirportSeqID=None, Div4WheelsOn=None, Div4TotalGTime=None, Div4LongestGTime=None, Div4WheelsOff=None, Div4TailNum=None, Div5Airport=None, Div5AirportID=None, Div5AirportSeqID=None, Div5WheelsOn=None, Div5TotalGTime=None, Div5LongestGTime=None, Div5WheelsOff=None, Div5TailNum=None),\n",
       " Row(Year=2019, Quarter=2, Month=4, DayofMonth=1, DayOfWeek=1, FlightDate=datetime.date(2019, 4, 1), Reporting_Airline='AA', DOT_ID_Reporting_Airline=19805, IATA_CODE_Reporting_Airline='AA', Tail_Number='N764US', Flight_Number_Reporting_Airline=2119, OriginAirportID=11278, OriginAirportSeqID=1127805, OriginCityMarketID=30852, Origin='DCA', OriginCityName='Washington, DC', OriginState='VA', OriginStateFips=51, OriginStateName='Virginia', OriginWac=38, DestAirportID=10721, DestAirportSeqID=1072102, DestCityMarketID=30721, Dest='BOS', DestCityName='Boston, MA', DestState='MA', DestStateFips=25, DestStateName='Massachusetts', DestWac=13, CRSDepTime=1330, DepTime=1325, DepDelay=-5.0, DepDelayMinutes=0.0, DepDel15=0.0, DepartureDelayGroups=-1, DepTimeBlk='1300-1359', TaxiOut=17.0, WheelsOff='1342', WheelsOn='1449', TaxiIn=5.0, CRSArrTime=1457, ArrTime=1454, ArrDelay=-3.0, ArrDelayMinutes=0.0, ArrDel15=0.0, ArrivalDelayGroups=-1, ArrTimeBlk='1400-1459', Cancelled=0.0, CancellationCode=None, Diverted=0.0, CRSElapsedTime=87.0, ActualElapsedTime=89.0, AirTime=67.0, Flights=1.0, Distance=399.0, DistanceGroup=2, CarrierDelay=None, WeatherDelay=None, NASDelay=None, SecurityDelay=None, LateAircraftDelay=None, FirstDepTime=None, TotalAddGTime=None, LongestAddGTime=None, DivAirportLandings=0, DivReachedDest=None, DivActualElapsedTime=None, DivArrDelay=None, DivDistance=None, Div1Airport=None, Div1AirportID=None, Div1AirportSeqID=None, Div1WheelsOn=None, Div1TotalGTime=None, Div1LongestGTime=None, Div1WheelsOff=None, Div1TailNum=None, Div2Airport=None, Div2AirportID=None, Div2AirportSeqID=None, Div2WheelsOn=None, Div2TotalGTime=None, Div2LongestGTime=None, Div2WheelsOff=None, Div2TailNum=None, Div3Airport=None, Div3AirportID=None, Div3AirportSeqID=None, Div3WheelsOn=None, Div3TotalGTime=None, Div3LongestGTime=None, Div3WheelsOff=None, Div3TailNum=None, Div4Airport=None, Div4AirportID=None, Div4AirportSeqID=None, Div4WheelsOn=None, Div4TotalGTime=None, Div4LongestGTime=None, Div4WheelsOff=None, Div4TailNum=None, Div5Airport=None, Div5AirportID=None, Div5AirportSeqID=None, Div5WheelsOn=None, Div5TotalGTime=None, Div5LongestGTime=None, Div5WheelsOff=None, Div5TailNum=None),\n",
       " Row(Year=2019, Quarter=2, Month=4, DayofMonth=2, DayOfWeek=2, FlightDate=datetime.date(2019, 4, 2), Reporting_Airline='AA', DOT_ID_Reporting_Airline=19805, IATA_CODE_Reporting_Airline='AA', Tail_Number='N805AW', Flight_Number_Reporting_Airline=2119, OriginAirportID=11278, OriginAirportSeqID=1127805, OriginCityMarketID=30852, Origin='DCA', OriginCityName='Washington, DC', OriginState='VA', OriginStateFips=51, OriginStateName='Virginia', OriginWac=38, DestAirportID=10721, DestAirportSeqID=1072102, DestCityMarketID=30721, Dest='BOS', DestCityName='Boston, MA', DestState='MA', DestStateFips=25, DestStateName='Massachusetts', DestWac=13, CRSDepTime=1330, DepTime=1325, DepDelay=-5.0, DepDelayMinutes=0.0, DepDel15=0.0, DepartureDelayGroups=-1, DepTimeBlk='1300-1359', TaxiOut=13.0, WheelsOff='1338', WheelsOn='1439', TaxiIn=5.0, CRSArrTime=1458, ArrTime=1444, ArrDelay=-14.0, ArrDelayMinutes=0.0, ArrDel15=0.0, ArrivalDelayGroups=-1, ArrTimeBlk='1400-1459', Cancelled=0.0, CancellationCode=None, Diverted=0.0, CRSElapsedTime=88.0, ActualElapsedTime=79.0, AirTime=61.0, Flights=1.0, Distance=399.0, DistanceGroup=2, CarrierDelay=None, WeatherDelay=None, NASDelay=None, SecurityDelay=None, LateAircraftDelay=None, FirstDepTime=None, TotalAddGTime=None, LongestAddGTime=None, DivAirportLandings=0, DivReachedDest=None, DivActualElapsedTime=None, DivArrDelay=None, DivDistance=None, Div1Airport=None, Div1AirportID=None, Div1AirportSeqID=None, Div1WheelsOn=None, Div1TotalGTime=None, Div1LongestGTime=None, Div1WheelsOff=None, Div1TailNum=None, Div2Airport=None, Div2AirportID=None, Div2AirportSeqID=None, Div2WheelsOn=None, Div2TotalGTime=None, Div2LongestGTime=None, Div2WheelsOff=None, Div2TailNum=None, Div3Airport=None, Div3AirportID=None, Div3AirportSeqID=None, Div3WheelsOn=None, Div3TotalGTime=None, Div3LongestGTime=None, Div3WheelsOff=None, Div3TailNum=None, Div4Airport=None, Div4AirportID=None, Div4AirportSeqID=None, Div4WheelsOn=None, Div4TotalGTime=None, Div4LongestGTime=None, Div4WheelsOff=None, Div4TailNum=None, Div5Airport=None, Div5AirportID=None, Div5AirportSeqID=None, Div5WheelsOn=None, Div5TotalGTime=None, Div5LongestGTime=None, Div5WheelsOff=None, Div5TailNum=None),\n",
       " Row(Year=2019, Quarter=2, Month=4, DayofMonth=3, DayOfWeek=3, FlightDate=datetime.date(2019, 4, 3), Reporting_Airline='AA', DOT_ID_Reporting_Airline=19805, IATA_CODE_Reporting_Airline='AA', Tail_Number='N740UW', Flight_Number_Reporting_Airline=2119, OriginAirportID=11278, OriginAirportSeqID=1127805, OriginCityMarketID=30852, Origin='DCA', OriginCityName='Washington, DC', OriginState='VA', OriginStateFips=51, OriginStateName='Virginia', OriginWac=38, DestAirportID=10721, DestAirportSeqID=1072102, DestCityMarketID=30721, Dest='BOS', DestCityName='Boston, MA', DestState='MA', DestStateFips=25, DestStateName='Massachusetts', DestWac=13, CRSDepTime=1330, DepTime=1324, DepDelay=-6.0, DepDelayMinutes=0.0, DepDel15=0.0, DepartureDelayGroups=-1, DepTimeBlk='1300-1359', TaxiOut=20.0, WheelsOff='1344', WheelsOn='1448', TaxiIn=5.0, CRSArrTime=1458, ArrTime=1453, ArrDelay=-5.0, ArrDelayMinutes=0.0, ArrDel15=0.0, ArrivalDelayGroups=-1, ArrTimeBlk='1400-1459', Cancelled=0.0, CancellationCode=None, Diverted=0.0, CRSElapsedTime=88.0, ActualElapsedTime=89.0, AirTime=64.0, Flights=1.0, Distance=399.0, DistanceGroup=2, CarrierDelay=None, WeatherDelay=None, NASDelay=None, SecurityDelay=None, LateAircraftDelay=None, FirstDepTime=None, TotalAddGTime=None, LongestAddGTime=None, DivAirportLandings=0, DivReachedDest=None, DivActualElapsedTime=None, DivArrDelay=None, DivDistance=None, Div1Airport=None, Div1AirportID=None, Div1AirportSeqID=None, Div1WheelsOn=None, Div1TotalGTime=None, Div1LongestGTime=None, Div1WheelsOff=None, Div1TailNum=None, Div2Airport=None, Div2AirportID=None, Div2AirportSeqID=None, Div2WheelsOn=None, Div2TotalGTime=None, Div2LongestGTime=None, Div2WheelsOff=None, Div2TailNum=None, Div3Airport=None, Div3AirportID=None, Div3AirportSeqID=None, Div3WheelsOn=None, Div3TotalGTime=None, Div3LongestGTime=None, Div3WheelsOff=None, Div3TailNum=None, Div4Airport=None, Div4AirportID=None, Div4AirportSeqID=None, Div4WheelsOn=None, Div4TotalGTime=None, Div4LongestGTime=None, Div4WheelsOff=None, Div4TailNum=None, Div5Airport=None, Div5AirportID=None, Div5AirportSeqID=None, Div5WheelsOn=None, Div5TotalGTime=None, Div5LongestGTime=None, Div5WheelsOff=None, Div5TailNum=None),\n",
       " Row(Year=2019, Quarter=2, Month=4, DayofMonth=4, DayOfWeek=4, FlightDate=datetime.date(2019, 4, 4), Reporting_Airline='AA', DOT_ID_Reporting_Airline=19805, IATA_CODE_Reporting_Airline='AA', Tail_Number='N805AW', Flight_Number_Reporting_Airline=2119, OriginAirportID=11278, OriginAirportSeqID=1127805, OriginCityMarketID=30852, Origin='DCA', OriginCityName='Washington, DC', OriginState='VA', OriginStateFips=51, OriginStateName='Virginia', OriginWac=38, DestAirportID=10721, DestAirportSeqID=1072102, DestCityMarketID=30721, Dest='BOS', DestCityName='Boston, MA', DestState='MA', DestStateFips=25, DestStateName='Massachusetts', DestWac=13, CRSDepTime=1330, DepTime=1402, DepDelay=32.0, DepDelayMinutes=32.0, DepDel15=1.0, DepartureDelayGroups=2, DepTimeBlk='1300-1359', TaxiOut=11.0, WheelsOff='1413', WheelsOn='1513', TaxiIn=2.0, CRSArrTime=1458, ArrTime=1515, ArrDelay=17.0, ArrDelayMinutes=17.0, ArrDel15=1.0, ArrivalDelayGroups=1, ArrTimeBlk='1400-1459', Cancelled=0.0, CancellationCode=None, Diverted=0.0, CRSElapsedTime=88.0, ActualElapsedTime=73.0, AirTime=60.0, Flights=1.0, Distance=399.0, DistanceGroup=2, CarrierDelay=2.0, WeatherDelay=0.0, NASDelay=0.0, SecurityDelay=0.0, LateAircraftDelay=15.0, FirstDepTime=None, TotalAddGTime=None, LongestAddGTime=None, DivAirportLandings=0, DivReachedDest=None, DivActualElapsedTime=None, DivArrDelay=None, DivDistance=None, Div1Airport=None, Div1AirportID=None, Div1AirportSeqID=None, Div1WheelsOn=None, Div1TotalGTime=None, Div1LongestGTime=None, Div1WheelsOff=None, Div1TailNum=None, Div2Airport=None, Div2AirportID=None, Div2AirportSeqID=None, Div2WheelsOn=None, Div2TotalGTime=None, Div2LongestGTime=None, Div2WheelsOff=None, Div2TailNum=None, Div3Airport=None, Div3AirportID=None, Div3AirportSeqID=None, Div3WheelsOn=None, Div3TotalGTime=None, Div3LongestGTime=None, Div3WheelsOff=None, Div3TailNum=None, Div4Airport=None, Div4AirportID=None, Div4AirportSeqID=None, Div4WheelsOn=None, Div4TotalGTime=None, Div4LongestGTime=None, Div4WheelsOff=None, Div4TailNum=None, Div5Airport=None, Div5AirportID=None, Div5AirportSeqID=None, Div5WheelsOn=None, Div5TotalGTime=None, Div5LongestGTime=None, Div5WheelsOff=None, Div5TailNum=None)]"
      ]
     },
     "execution_count": 5,
     "metadata": {},
     "output_type": "execute_result"
    }
   ],
   "source": [
    "airline.head(5)"
   ]
  },
  {
   "cell_type": "code",
   "execution_count": null,
   "metadata": {},
   "outputs": [],
   "source": []
  },
  {
   "cell_type": "code",
   "execution_count": null,
   "metadata": {},
   "outputs": [],
   "source": [
    "def get_top_airports(airline, years):\n",
    "    top_airports = []\n",
    "    result = []\n",
    "    for year in years:\n",
    "        # Filter flights by the specified year and on-time departures\n",
    "        on_time_flights = airline.filter(\n",
    "            (airline['Year'] == year) & (airline['DepDelay'] <= 0))\n",
    "\n",
    "        # Group flights by originating airport and count occurrences also get the OriginStateName and OriginCityName\n",
    "        airport_counts = on_time_flights.groupBy( 'Origin', 'OriginStateName', 'OriginCityName').count() \n",
    "        top_airports_year = airport_counts.orderBy(\n",
    "            airport_counts['count'].desc()).limit(3)\n",
    "\n",
    "        # get the OriginStateName and OriginCityName\n",
    "        top_airports = []\n",
    "        for i, airport in enumerate(top_airports_year.collect(), start=1):\n",
    "            location = airport['OriginCityName'] + ', ' + airport['OriginStateName']    \n",
    "            top_airports.append(\n",
    "                {\"airport\": airport['Origin'], \"count\": airport['count'] ,\"location\":location, \"year\": year})\n",
    "        result += top_airports\n",
    "    return result\n",
    "\n",
    "years = [1987, 1997, 2007, 2017]\n",
    "result = get_top_airports(airline,years)\n",
    "result"
   ]
  },
  {
   "cell_type": "code",
   "execution_count": 4,
   "metadata": {},
   "outputs": [
    {
     "name": "stderr",
     "output_type": "stream",
     "text": [
      "                                                                                \r"
     ]
    },
    {
     "data": {
      "text/plain": [
       "[{'airline': 'DL', 'total_delays': 3442010},\n",
       " {'airline': 'US', 'total_delays': 3143834},\n",
       " {'airline': 'AA', 'total_delays': 2717380}]"
      ]
     },
     "execution_count": 4,
     "metadata": {},
     "output_type": "execute_result"
    }
   ],
   "source": [
    "def get_worst_performing_airlines(airline):\n",
    "    # Filter flights in the 20th century (years 1900-1999)\n",
    "    century_flights = airline.filter(\n",
    "        (airline['Year'] >= 1900) & (airline['Year'] <= 1999))\n",
    "\n",
    "\n",
    "    # calculate average delay\n",
    "    average_delay = century_flights.groupBy('Reporting_Airline').avg('ArrDelay')\n",
    "    average_delay = average_delay.withColumnRenamed('avg(ArrDelay)', 'avg_delay')\n",
    "\n",
    "    # Filter flights with an arrival delay greater than average delay\n",
    "    worst_performing_airlines = century_flights.join(average_delay, on='Reporting_Airline')\n",
    "    worst_performing_airlines = worst_performing_airlines.filter(worst_performing_airlines['ArrDelay'] > worst_performing_airlines['avg_delay'])\n",
    "    worst_performing_airlines = worst_performing_airlines.groupBy('Reporting_Airline').count().orderBy('count', ascending=False).limit(3)\n",
    "\n",
    "    worst_performing_airlines_list = worst_performing_airlines.collect()\n",
    "\n",
    "    # print(\"The top three worst performing airlines in the 20th century are:\")\n",
    "    data = []\n",
    "    for i, airline in enumerate(worst_performing_airlines_list, start=1):\n",
    "        # print(\n",
    "        #     f\"{i}. {airline['Reporting_Airline']}, Total Delays: {airline['count']}\")\n",
    "        data.append(\n",
    "            {\"airline\": airline['Reporting_Airline'], \"total_delays\": airline['count']})\n",
    "    return data\n",
    "\n",
    "get_worst_performing_airlines(airline)\n"
   ]
  },
  {
   "cell_type": "code",
   "execution_count": 6,
   "metadata": {},
   "outputs": [
    {
     "name": "stderr",
     "output_type": "stream",
     "text": [
      "                                                                                \r"
     ]
    },
    {
     "name": "stdout",
     "output_type": "stream",
     "text": [
      "+-----------------+\n",
      "|Reporting_Airline|\n",
      "+-----------------+\n",
      "|               UA|\n",
      "|               NK|\n",
      "|               AA|\n",
      "|               EV|\n",
      "|               B6|\n",
      "|               DL|\n",
      "|               OO|\n",
      "|               F9|\n",
      "|               YV|\n",
      "|               MQ|\n",
      "|               OH|\n",
      "|               HA|\n",
      "|               G4|\n",
      "|               YX|\n",
      "|               AS|\n",
      "|               VX|\n",
      "|               WN|\n",
      "|               9E|\n",
      "|               US|\n",
      "|               FL|\n",
      "+-----------------+\n",
      "only showing top 20 rows\n",
      "\n"
     ]
    }
   ],
   "source": [
    "# print unique values of Reporting_Airline\n",
    "airline.select('Reporting_Airline').distinct().show()"
   ]
  },
  {
   "cell_type": "code",
   "execution_count": null,
   "metadata": {},
   "outputs": [],
   "source": []
  }
 ],
 "metadata": {
  "kernelspec": {
   "display_name": "Python 3",
   "language": "python",
   "name": "python3"
  },
  "language_info": {
   "codemirror_mode": {
    "name": "ipython",
    "version": 3
   },
   "file_extension": ".py",
   "mimetype": "text/x-python",
   "name": "python",
   "nbconvert_exporter": "python",
   "pygments_lexer": "ipython3",
   "version": "3.11.7"
  }
 },
 "nbformat": 4,
 "nbformat_minor": 2
}
